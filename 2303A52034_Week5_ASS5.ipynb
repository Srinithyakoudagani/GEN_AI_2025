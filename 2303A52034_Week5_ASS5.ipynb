{
  "nbformat": 4,
  "nbformat_minor": 0,
  "metadata": {
    "colab": {
      "provenance": [],
      "authorship_tag": "ABX9TyPqFSM+Ynew8j3Gxc+248U6",
      "include_colab_link": true
    },
    "kernelspec": {
      "name": "python3",
      "display_name": "Python 3"
    },
    "language_info": {
      "name": "python"
    }
  },
  "cells": [
    {
      "cell_type": "markdown",
      "metadata": {
        "id": "view-in-github",
        "colab_type": "text"
      },
      "source": [
        "<a href=\"https://colab.research.google.com/github/Srinithyakoudagani/GEN_AI_2025/blob/main/2303A52034_Week5_ASS5.ipynb\" target=\"_parent\"><img src=\"https://colab.research.google.com/assets/colab-badge.svg\" alt=\"Open In Colab\"/></a>"
      ]
    },
    {
      "cell_type": "code",
      "execution_count": 3,
      "metadata": {
        "colab": {
          "base_uri": "https://localhost:8080/"
        },
        "id": "LLbF_dmNKP5Q",
        "outputId": "f16c3db6-5895-43cf-dadd-873ab3c9dd8f"
      },
      "outputs": [
        {
          "output_type": "stream",
          "name": "stdout",
          "text": [
            "Mean squared error on training data: 1.209422064044924e-05\n",
            "Mean squared error on testing data: 4.6076479882790164e-07\n",
            "Enter x1: 0.5\n",
            "Enter x2: 0.6\n",
            "Predicted output: 0.366989909531491\n"
          ]
        }
      ],
      "source": [
        "import numpy as np\n",
        "def sigmoid(x):\n",
        "    return 1 / (1 + np.exp(-x))\n",
        "\n",
        "def sigmoid_derivative(x):\n",
        "    return x * (1 - x)\n",
        "\n",
        "X_train = np.array([[0.1, 0.2], [0.2, 0.3], [0.3, 0.4], [0.6, 0.7], [0.7, 0.8], [0.8, 0.9]])\n",
        "y_train = np.array([[0.3432], [0.3490], [0.3548], [0.3720], [0.3776], [0.3832]])\n",
        "\n",
        "X_test = np.array([[0.4, 0.5], [0.5, 0.6]])\n",
        "y_test = np.array([[0.3606], [0.3663]])\n",
        "\n",
        "input_dim = 2\n",
        "hidden_dim = 2\n",
        "output_dim = 1\n",
        "\n",
        "weights1 = np.random.rand(input_dim, hidden_dim)\n",
        "weights2 = np.random.rand(hidden_dim, output_dim)\n",
        "bias1 = np.zeros((1, hidden_dim))\n",
        "bias2 = np.zeros((1, output_dim))\n",
        "\n",
        "learning_rate = 0.1\n",
        "num_epochs = 1000\n",
        "\n",
        "\n",
        "for epoch in range(num_epochs):\n",
        "    hidden_layer = sigmoid(np.dot(X_train, weights1) + bias1)\n",
        "    output_layer = np.dot(hidden_layer, weights2) + bias2\n",
        "\n",
        "    output_error = y_train - output_layer\n",
        "    output_delta = output_error\n",
        "\n",
        "    hidden_error = output_delta.dot(weights2.T)\n",
        "    hidden_delta = hidden_error * sigmoid_derivative(hidden_layer)\n",
        "\n",
        "    weights2 += learning_rate * hidden_layer.T.dot(output_delta)\n",
        "    weights1 += learning_rate * X_train.T.dot(hidden_delta)\n",
        "    bias2 += learning_rate * np.sum(output_delta, axis=0, keepdims=True)\n",
        "    bias1 += learning_rate * np.sum(hidden_delta, axis=0, keepdims=True)\n",
        "\n",
        "mse_train = np.mean((y_train - output_layer) ** 2)\n",
        "mse_test = np.mean((y_test - np.dot(sigmoid(np.dot(X_test, weights1) + bias1), weights2) - bias2) ** 2)\n",
        "\n",
        "print(\"Mean squared error on training data:\", mse_train)\n",
        "print(\"Mean squared error on testing data:\", mse_test)\n",
        "\n",
        "def deploy_ann():\n",
        "    x1 = float(input(\"Enter x1: \"))\n",
        "    x2 = float(input(\"Enter x2: \"))\n",
        "    inputs = np.array([[x1, x2]])\n",
        "    hidden_layer = sigmoid(np.dot(inputs, weights1) + bias1)\n",
        "    output_layer = np.dot(hidden_layer, weights2) + bias2\n",
        "    print(\"Predicted output:\", output_layer[0][0])\n",
        "\n",
        "deploy_ann()"
      ]
    }
  ]
}