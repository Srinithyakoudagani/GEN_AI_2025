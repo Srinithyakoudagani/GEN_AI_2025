{
  "nbformat": 4,
  "nbformat_minor": 0,
  "metadata": {
    "colab": {
      "provenance": [],
      "authorship_tag": "ABX9TyP8xNqgx9H6YjffTYpCG9WK",
      "include_colab_link": true
    },
    "kernelspec": {
      "name": "python3",
      "display_name": "Python 3"
    },
    "language_info": {
      "name": "python"
    }
  },
  "cells": [
    {
      "cell_type": "markdown",
      "metadata": {
        "id": "view-in-github",
        "colab_type": "text"
      },
      "source": [
        "<a href=\"https://colab.research.google.com/github/Srinithyakoudagani/GEN_AI_2025/blob/main/2303A52034_Week3_Ass3.ipynb\" target=\"_parent\"><img src=\"https://colab.research.google.com/assets/colab-badge.svg\" alt=\"Open In Colab\"/></a>"
      ]
    },
    {
      "cell_type": "markdown",
      "source": [
        "Question 1"
      ],
      "metadata": {
        "id": "FQGR7iThQf89"
      }
    },
    {
      "cell_type": "code",
      "execution_count": null,
      "metadata": {
        "colab": {
          "base_uri": "https://localhost:8080/"
        },
        "id": "ei07DyrrBjx9",
        "outputId": "ccf11d52-066c-46cc-f1a2-0cf1940d0455"
      },
      "outputs": [
        {
          "output_type": "stream",
          "name": "stdout",
          "text": [
            "Iteration 1: x = 0.740, f(x) = 13.142\n",
            "Iteration 2: x = 0.615, f(x) = 11.846\n",
            "Iteration 3: x = 0.531, f(x) = 11.245\n",
            "Iteration 4: x = 0.469, f(x) = 10.904\n",
            "Iteration 5: x = 0.421, f(x) = 10.687\n",
            "Iteration 6: x = 0.380, f(x) = 10.539\n",
            "Iteration 7: x = 0.347, f(x) = 10.433\n",
            "Iteration 8: x = 0.317, f(x) = 10.353\n",
            "Iteration 9: x = 0.292, f(x) = 10.292\n",
            "Iteration 10: x = 0.270, f(x) = 10.244\n",
            "Iteration 11: x = 0.249, f(x) = 10.206\n",
            "Iteration 12: x = 0.231, f(x) = 10.175\n",
            "Iteration 13: x = 0.215, f(x) = 10.149\n",
            "Iteration 14: x = 0.200, f(x) = 10.128\n",
            "Iteration 15: x = 0.187, f(x) = 10.110\n",
            "Iteration 16: x = 0.174, f(x) = 10.095\n",
            "Iteration 17: x = 0.163, f(x) = 10.083\n",
            "Iteration 18: x = 0.152, f(x) = 10.072\n",
            "Iteration 19: x = 0.142, f(x) = 10.063\n",
            "Iteration 20: x = 0.133, f(x) = 10.055\n",
            "Iteration 21: x = 0.125, f(x) = 10.048\n",
            "Iteration 22: x = 0.117, f(x) = 10.042\n",
            "Iteration 23: x = 0.109, f(x) = 10.037\n",
            "Iteration 24: x = 0.103, f(x) = 10.032\n",
            "Iteration 25: x = 0.096, f(x) = 10.028\n",
            "Minimum value of x: 0.096\n"
          ]
        }
      ],
      "source": [
        "def f(x):\n",
        "    return 5 * (x ** 4) + 3 * (x ** 2) + 10\n",
        "\n",
        "def f_prime(x):\n",
        "    return 20 * (x ** 3) + 6 * x\n",
        "\n",
        "def gradient_descent(learning_rate, initial_x, iterations):\n",
        "    x = initial_x\n",
        "    for i in range(iterations):\n",
        "        grad = f_prime(x)\n",
        "        x = x - learning_rate * grad\n",
        "        print(f\"Iteration {i+1}: x = {x:.3f}, f(x) = {f(x):.3f}\")\n",
        "    return x\n",
        "\n",
        "\n",
        "initial_x = 1.0\n",
        "learning_rate = 0.01\n",
        "iterations = 25\n",
        "\n",
        "min_x = gradient_descent(learning_rate, initial_x, iterations)\n",
        "print(f\"Minimum value of x: {min_x:.3f}\")\n"
      ]
    },
    {
      "cell_type": "markdown",
      "source": [
        "Question 2"
      ],
      "metadata": {
        "id": "JxEl2xHIQrqN"
      }
    },
    {
      "cell_type": "code",
      "source": [
        "def g(x, y):\n",
        "    return 3 * (x ** 2) + 5 * (2.718281828459045 ** (-y)) + 10\n",
        "\n",
        "def g_prime_x(x):\n",
        "    return 6 * x\n",
        "\n",
        "def g_prime_y(y):\n",
        "    return -5 * (2.718281828459045 ** (-y))\n",
        "\n",
        "def gradient_descent(learning_rate, initial_x, initial_y, iterations):\n",
        "    x = initial_x\n",
        "    y = initial_y\n",
        "    for i in range(iterations):\n",
        "        grad_x = g_prime_x(x)\n",
        "        grad_y = g_prime_y(y)\n",
        "\n",
        "        x = x - learning_rate * grad_x\n",
        "        y = y - learning_rate * grad_y\n",
        "\n",
        "        print(f\"Iteration {i+1}: x = {x:.2f}, y = {y:.2f}, g(x, y) = {g(x, y):.2f}\")\n",
        "\n",
        "    return x, y\n",
        "\n",
        "initial_x = 1.0\n",
        "initial_y = 1.0\n",
        "learning_rate = 0.01\n",
        "iterations = 25\n",
        "\n",
        "min_x, min_y = gradient_descent(learning_rate, initial_x, initial_y, iterations)\n",
        "print(f\"Minimum values: x = {min_x:.2f}, y = {min_y:.3f}\")\n"
      ],
      "metadata": {
        "colab": {
          "base_uri": "https://localhost:8080/"
        },
        "id": "jxsAfywCG3c6",
        "outputId": "56b498f7-0685-45c2-ed7a-048a47565358"
      },
      "execution_count": 29,
      "outputs": [
        {
          "output_type": "stream",
          "name": "stdout",
          "text": [
            "Iteration 1: x = 0.94, y = 1.02, g(x, y) = 14.46\n",
            "Iteration 2: x = 0.88, y = 1.04, g(x, y) = 14.12\n",
            "Iteration 3: x = 0.83, y = 1.05, g(x, y) = 13.81\n",
            "Iteration 4: x = 0.78, y = 1.07, g(x, y) = 13.54\n",
            "Iteration 5: x = 0.73, y = 1.09, g(x, y) = 13.30\n",
            "Iteration 6: x = 0.69, y = 1.11, g(x, y) = 13.08\n",
            "Iteration 7: x = 0.65, y = 1.12, g(x, y) = 12.89\n",
            "Iteration 8: x = 0.61, y = 1.14, g(x, y) = 12.72\n",
            "Iteration 9: x = 0.57, y = 1.15, g(x, y) = 12.56\n",
            "Iteration 10: x = 0.54, y = 1.17, g(x, y) = 12.42\n",
            "Iteration 11: x = 0.51, y = 1.19, g(x, y) = 12.30\n",
            "Iteration 12: x = 0.48, y = 1.20, g(x, y) = 12.18\n",
            "Iteration 13: x = 0.45, y = 1.22, g(x, y) = 12.08\n",
            "Iteration 14: x = 0.42, y = 1.23, g(x, y) = 11.99\n",
            "Iteration 15: x = 0.40, y = 1.25, g(x, y) = 11.91\n",
            "Iteration 16: x = 0.37, y = 1.26, g(x, y) = 11.83\n",
            "Iteration 17: x = 0.35, y = 1.27, g(x, y) = 11.76\n",
            "Iteration 18: x = 0.33, y = 1.29, g(x, y) = 11.70\n",
            "Iteration 19: x = 0.31, y = 1.30, g(x, y) = 11.65\n",
            "Iteration 20: x = 0.29, y = 1.32, g(x, y) = 11.59\n",
            "Iteration 21: x = 0.27, y = 1.33, g(x, y) = 11.55\n",
            "Iteration 22: x = 0.26, y = 1.34, g(x, y) = 11.50\n",
            "Iteration 23: x = 0.24, y = 1.36, g(x, y) = 11.46\n",
            "Iteration 24: x = 0.23, y = 1.37, g(x, y) = 11.43\n",
            "Iteration 25: x = 0.21, y = 1.38, g(x, y) = 11.39\n",
            "Minimum values: x = 0.21, y = 1.381\n"
          ]
        }
      ]
    },
    {
      "cell_type": "markdown",
      "source": [
        "Question 3"
      ],
      "metadata": {
        "id": "lQQcDn-aQ0Ew"
      }
    },
    {
      "cell_type": "code",
      "source": [
        "def sigmoid(x):\n",
        "\n",
        "    return 1 / (1 + (2.718281828459045) ** (-x))\n",
        "\n",
        "def sigmoid_prime(x):\n",
        "    z = sigmoid(x)\n",
        "    return z * (1 - z)\n",
        "\n",
        "def gradient_descent(learning_rate, initial_x, iterations):\n",
        "    x = initial_x\n",
        "    for i in range(iterations):\n",
        "        grad = sigmoid_prime(x)\n",
        "        x = x - learning_rate * grad\n",
        "\n",
        "        print(f\"Iteration {i+1}: x = {x:.4f}, z(x) = {sigmoid(x):.4f}\")\n",
        "\n",
        "    return x\n",
        "\n",
        "initial_x = 1.0\n",
        "learning_rate = 0.1\n",
        "iterations = 25\n",
        "\n",
        "min_x = gradient_descent(learning_rate, initial_x, iterations)\n",
        "print(f\"\\nMinimum value of x: {min_x:.4f}\")\n"
      ],
      "metadata": {
        "colab": {
          "base_uri": "https://localhost:8080/"
        },
        "id": "kR5EmIsbLfAo",
        "outputId": "16d25f49-0031-4376-ab33-ea657508a22c"
      },
      "execution_count": 28,
      "outputs": [
        {
          "output_type": "stream",
          "name": "stdout",
          "text": [
            "Iteration 1: x = 0.9803, z(x) = 0.7272\n",
            "Iteration 2: x = 0.9605, z(x) = 0.7232\n",
            "Iteration 3: x = 0.9405, z(x) = 0.7192\n",
            "Iteration 4: x = 0.9203, z(x) = 0.7151\n",
            "Iteration 5: x = 0.8999, z(x) = 0.7109\n",
            "Iteration 6: x = 0.8794, z(x) = 0.7067\n",
            "Iteration 7: x = 0.8586, z(x) = 0.7024\n",
            "Iteration 8: x = 0.8377, z(x) = 0.6980\n",
            "Iteration 9: x = 0.8167, z(x) = 0.6935\n",
            "Iteration 10: x = 0.7954, z(x) = 0.6890\n",
            "Iteration 11: x = 0.7740, z(x) = 0.6844\n",
            "Iteration 12: x = 0.7524, z(x) = 0.6797\n",
            "Iteration 13: x = 0.7306, z(x) = 0.6749\n",
            "Iteration 14: x = 0.7087, z(x) = 0.6701\n",
            "Iteration 15: x = 0.6866, z(x) = 0.6652\n",
            "Iteration 16: x = 0.6643, z(x) = 0.6602\n",
            "Iteration 17: x = 0.6418, z(x) = 0.6552\n",
            "Iteration 18: x = 0.6193, z(x) = 0.6500\n",
            "Iteration 19: x = 0.5965, z(x) = 0.6449\n",
            "Iteration 20: x = 0.5736, z(x) = 0.6396\n",
            "Iteration 21: x = 0.5506, z(x) = 0.6343\n",
            "Iteration 22: x = 0.5274, z(x) = 0.6289\n",
            "Iteration 23: x = 0.5040, z(x) = 0.6234\n",
            "Iteration 24: x = 0.4805, z(x) = 0.6179\n",
            "Iteration 25: x = 0.4569, z(x) = 0.6123\n",
            "\n",
            "Minimum value of x: 0.4569\n"
          ]
        }
      ]
    },
    {
      "cell_type": "markdown",
      "source": [
        "Question 4"
      ],
      "metadata": {
        "id": "kTtunKkXQ2cy"
      }
    },
    {
      "cell_type": "code",
      "source": [
        "def model(x, M, C):\n",
        "    return M * x + C\n",
        "\n",
        "def dSE_dM(x, y, M, C):\n",
        "    return -2 * x * (y - model(x, M, C))\n",
        "\n",
        "def dSE_dC(x, y, M, C):\n",
        "    return -2 * (y - model(x, M, C))\n",
        "\n",
        "def gradient_descent(X, Y, learning_rate, max_iterations, initial_M, initial_C):\n",
        "    M, C = initial_M, initial_C\n",
        "    for _ in range(max_iterations):\n",
        "        for x, y in zip(X, Y):\n",
        "            M = M - learning_rate * dSE_dM(x, y, M, C)\n",
        "            C = C - learning_rate * dSE_dC(x, y, M, C)\n",
        "    return M, C\n",
        "\n",
        "X = [1, 2, 3, 4]\n",
        "Y = [2, 4, 6, 8]\n",
        "\n",
        "learning_rate = 0.01\n",
        "max_iterations = 1000\n",
        "initial_M = 0.0\n",
        "initial_C = 0.0\n",
        "\n",
        "optimal_M, optimal_C = gradient_descent(X, Y, learning_rate, max_iterations, initial_M, initial_C)\n",
        "print(\"The optimal values of M and C are:\", optimal_M, optimal_C)"
      ],
      "metadata": {
        "colab": {
          "base_uri": "https://localhost:8080/"
        },
        "id": "Kd_u3_SGP3aa",
        "outputId": "3f767c38-390e-4d6d-ef4a-1de2d12d413b"
      },
      "execution_count": null,
      "outputs": [
        {
          "output_type": "stream",
          "name": "stdout",
          "text": [
            "The optimal values of M and C are: 1.9999998815747182 3.7962766099098773e-07\n"
          ]
        }
      ]
    }
  ]
}