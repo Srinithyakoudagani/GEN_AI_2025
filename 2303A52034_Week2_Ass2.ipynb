{
  "nbformat": 4,
  "nbformat_minor": 0,
  "metadata": {
    "colab": {
      "provenance": [],
      "authorship_tag": "ABX9TyOJ2GeODVRqWEtT7wVm9f1j",
      "include_colab_link": true
    },
    "kernelspec": {
      "name": "python3",
      "display_name": "Python 3"
    },
    "language_info": {
      "name": "python"
    }
  },
  "cells": [
    {
      "cell_type": "markdown",
      "metadata": {
        "id": "view-in-github",
        "colab_type": "text"
      },
      "source": [
        "<a href=\"https://colab.research.google.com/github/Srinithyakoudagani/GEN_AI_2025/blob/main/2303A52034_Week2_Ass2.ipynb\" target=\"_parent\"><img src=\"https://colab.research.google.com/assets/colab-badge.svg\" alt=\"Open In Colab\"/></a>"
      ]
    },
    {
      "cell_type": "code",
      "execution_count": 2,
      "metadata": {
        "colab": {
          "base_uri": "https://localhost:8080/"
        },
        "id": "BFeLLFPZSNfi",
        "outputId": "8253f357-f090-4cda-ac1f-6525616cde5b"
      },
      "outputs": [
        {
          "output_type": "stream",
          "name": "stdout",
          "text": [
            "Requirement already satisfied: pulp in /usr/local/lib/python3.11/dist-packages (2.9.0)\n",
            "Status: Optimal\n",
            "Number of units of A to produce: 2.0\n",
            "Number of units of B to produce: 3.0\n",
            "Maximum profit: 27.0\n"
          ]
        }
      ],
      "source": [
        "!pip install pulp\n",
        "from pulp import *\n",
        "\n",
        "prob = LpProblem(\"Chocolate_Profit_Maximization\", LpMaximize)\n",
        "\n",
        "A = LpVariable(\"A\", lowBound=0, cat=\"Integer\")\n",
        "B = LpVariable(\"B\", lowBound=0, cat=\"Integer\")\n",
        "\n",
        "prob += 6 * A + 5 * B\n",
        "\n",
        "prob += A + B <= 5\n",
        "prob += 3 * A + 2 * B <= 12\n",
        "\n",
        "status = prob.solve()\n",
        "\n",
        "print(f\"Status: {LpStatus[status]}\")\n",
        "print(f\"Number of units of A to produce: {A.varValue}\")\n",
        "print(f\"Number of units of B to produce: {B.varValue}\")\n",
        "print(f\"Maximum profit: {value(prob.objective)}\")\n",
        ""
      ]
    },
    {
      "cell_type": "code",
      "source": [
        "from pulp import *\n",
        "\n",
        "prob = LpProblem(\"Farmer_Profit_Maximization\", LpMaximize)\n",
        "\n",
        "wheat_acres = LpVariable(\"Wheat_Acres\", lowBound=0, cat=\"Continuous\")\n",
        "barley_acres = LpVariable(\"Barley_Acres\", lowBound=0, cat=\"Continuous\")\n",
        "\n",
        "prob += 50 * wheat_acres + 120 * barley_acres\n",
        "\n",
        "prob += wheat_acres + barley_acres <= 110\n",
        "\n",
        "prob += 7000 * wheat_acres + 2000 * barley_acres <= 7000000\n",
        "\n",
        "prob += 10 * wheat_acres + 30 * barley_acres <= 1200\n",
        "\n",
        "status = prob.solve()\n",
        "\n",
        "print(f\"Status: {LpStatus[status]}\")\n",
        "print(f\"Acres of wheat to plant: {wheat_acres.varValue}\")\n",
        "print(f\"Acres of barley to plant: {barley_acres.varValue}\")\n",
        "print(f\"Maximum profit: {value(prob.objective)}\")"
      ],
      "metadata": {
        "colab": {
          "base_uri": "https://localhost:8080/"
        },
        "id": "cCIwM8fxSt5z",
        "outputId": "5bb70189-48d2-4d84-c620-5e2e3cf206e4"
      },
      "execution_count": 3,
      "outputs": [
        {
          "output_type": "stream",
          "name": "stdout",
          "text": [
            "Status: Optimal\n",
            "Acres of wheat to plant: 105.0\n",
            "Acres of barley to plant: 5.0\n",
            "Maximum profit: 5850.0\n"
          ]
        }
      ]
    }
  ]
}